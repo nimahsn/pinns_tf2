{
 "cells": [
  {
   "cell_type": "code",
   "execution_count": 1,
   "metadata": {},
   "outputs": [],
   "source": [
    "import tensorflow as tf\n",
    "import numpy as np\n",
    "from utils import simulate_schrodinger, plot_schrodinger_model\n",
    "from models import SchroedingerPinn"
   ]
  },
  {
   "cell_type": "code",
   "execution_count": 2,
   "metadata": {},
   "outputs": [],
   "source": [
    "def f_init(tx):\n",
    "    h = 2.0 / tf.cosh(tx[:, 1:2])\n",
    "    return tf.concat([h, tf.zeros_like(h)], axis=1)"
   ]
  },
  {
   "cell_type": "code",
   "execution_count": 3,
   "metadata": {},
   "outputs": [
    {
     "name": "stderr",
     "output_type": "stream",
     "text": [
      "2022-10-24 22:16:55.820435: I tensorflow/stream_executor/cuda/cuda_gpu_executor.cc:936] successful NUMA node read from SysFS had negative value (-1), but there must be at least one NUMA node, so returning NUMA node zero\n",
      "2022-10-24 22:16:55.881189: I tensorflow/stream_executor/cuda/cuda_gpu_executor.cc:936] successful NUMA node read from SysFS had negative value (-1), but there must be at least one NUMA node, so returning NUMA node zero\n",
      "2022-10-24 22:16:55.881713: I tensorflow/stream_executor/cuda/cuda_gpu_executor.cc:936] successful NUMA node read from SysFS had negative value (-1), but there must be at least one NUMA node, so returning NUMA node zero\n",
      "2022-10-24 22:16:55.882709: I tensorflow/core/platform/cpu_feature_guard.cc:151] This TensorFlow binary is optimized with oneAPI Deep Neural Network Library (oneDNN) to use the following CPU instructions in performance-critical operations:  SSE4.1 SSE4.2 AVX AVX2 FMA\n",
      "To enable them in other operations, rebuild TensorFlow with the appropriate compiler flags.\n",
      "2022-10-24 22:16:55.883335: I tensorflow/stream_executor/cuda/cuda_gpu_executor.cc:936] successful NUMA node read from SysFS had negative value (-1), but there must be at least one NUMA node, so returning NUMA node zero\n",
      "2022-10-24 22:16:55.884049: I tensorflow/stream_executor/cuda/cuda_gpu_executor.cc:936] successful NUMA node read from SysFS had negative value (-1), but there must be at least one NUMA node, so returning NUMA node zero\n",
      "2022-10-24 22:16:55.884544: I tensorflow/stream_executor/cuda/cuda_gpu_executor.cc:936] successful NUMA node read from SysFS had negative value (-1), but there must be at least one NUMA node, so returning NUMA node zero\n",
      "2022-10-24 22:16:56.642007: I tensorflow/stream_executor/cuda/cuda_gpu_executor.cc:936] successful NUMA node read from SysFS had negative value (-1), but there must be at least one NUMA node, so returning NUMA node zero\n",
      "2022-10-24 22:16:56.642269: I tensorflow/stream_executor/cuda/cuda_gpu_executor.cc:936] successful NUMA node read from SysFS had negative value (-1), but there must be at least one NUMA node, so returning NUMA node zero\n",
      "2022-10-24 22:16:56.642447: I tensorflow/stream_executor/cuda/cuda_gpu_executor.cc:936] successful NUMA node read from SysFS had negative value (-1), but there must be at least one NUMA node, so returning NUMA node zero\n",
      "2022-10-24 22:16:56.642591: I tensorflow/core/common_runtime/gpu/gpu_device.cc:1525] Created device /job:localhost/replica:0/task:0/device:GPU:0 with 3374 MB memory:  -> device: 0, name: NVIDIA GeForce MX150, pci bus id: 0000:01:00.0, compute capability: 6.1\n"
     ]
    }
   ],
   "source": [
    "x_start = -5\n",
    "length = 10\n",
    "time = np.pi / 2\n",
    "(tx_samples, y_samples), (tx_init, h_init), tx_boundary = simulate_schrodinger(1000, f_init, x_start, length, time)"
   ]
  },
  {
   "cell_type": "code",
   "execution_count": 4,
   "metadata": {},
   "outputs": [],
   "source": [
    "network = SchroedingerPinn.build_network([8, 16, 32, 64, 32])\n",
    "sch_pinn = SchroedingerPinn(network)\n",
    "sch_pinn.compile()"
   ]
  },
  {
   "cell_type": "code",
   "execution_count": 5,
   "metadata": {},
   "outputs": [],
   "source": [
    "inputs = tf.stack([tx_samples, tx_init, tx_boundary], axis=0)\n",
    "outputs = tf.stack([h_init])"
   ]
  },
  {
   "cell_type": "code",
   "execution_count": 9,
   "metadata": {},
   "outputs": [
    {
     "name": "stdout",
     "output_type": "stream",
     "text": [
      "Epoch: 0 Loss: 0.0274 Total Elapsed Time: 0.07\n",
      "Epoch: 100 Loss: 0.0273 Total Elapsed Time: 3.33\n",
      "Epoch: 200 Loss: 0.0273 Total Elapsed Time: 6.54\n",
      "Epoch: 300 Loss: 0.0273 Total Elapsed Time: 9.74\n",
      "Epoch: 400 Loss: 0.0273 Total Elapsed Time: 12.92\n",
      "Epoch: 500 Loss: 0.0273 Total Elapsed Time: 16.00\n",
      "Epoch: 600 Loss: 0.0273 Total Elapsed Time: 19.10\n",
      "Epoch: 700 Loss: 0.0272 Total Elapsed Time: 22.21\n",
      "Epoch: 800 Loss: 0.0272 Total Elapsed Time: 25.39\n",
      "Epoch: 900 Loss: 0.0272 Total Elapsed Time: 28.55\n",
      "Epoch: 1000 Loss: 0.0272 Total Elapsed Time: 31.66\n",
      "Epoch: 1100 Loss: 0.0272 Total Elapsed Time: 34.80\n",
      "Epoch: 1200 Loss: 0.0272 Total Elapsed Time: 38.01\n",
      "Epoch: 1300 Loss: 0.0272 Total Elapsed Time: 41.14\n",
      "Epoch: 1400 Loss: 0.0272 Total Elapsed Time: 44.32\n",
      "Epoch: 1500 Loss: 0.0271 Total Elapsed Time: 47.46\n",
      "Epoch: 1600 Loss: 0.0271 Total Elapsed Time: 50.73\n",
      "Epoch: 1700 Loss: 0.0271 Total Elapsed Time: 54.04\n",
      "Epoch: 1800 Loss: 0.0271 Total Elapsed Time: 57.37\n",
      "Epoch: 1900 Loss: 0.0271 Total Elapsed Time: 60.73\n",
      "Epoch: 2000 Loss: 0.0271 Total Elapsed Time: 63.82\n",
      "Epoch: 2100 Loss: 0.0270 Total Elapsed Time: 67.06\n",
      "Epoch: 2200 Loss: 0.0270 Total Elapsed Time: 70.38\n",
      "Epoch: 2300 Loss: 0.0270 Total Elapsed Time: 73.64\n",
      "Epoch: 2400 Loss: 0.0270 Total Elapsed Time: 76.81\n",
      "Epoch: 2500 Loss: 0.0270 Total Elapsed Time: 80.04\n",
      "Epoch: 2600 Loss: 0.0270 Total Elapsed Time: 83.19\n",
      "Epoch: 2700 Loss: 0.0270 Total Elapsed Time: 86.37\n",
      "Epoch: 2800 Loss: 0.0270 Total Elapsed Time: 89.47\n",
      "Epoch: 2900 Loss: 0.0269 Total Elapsed Time: 92.61\n",
      "Epoch: 3000 Loss: 0.0269 Total Elapsed Time: 95.76\n",
      "Epoch: 3100 Loss: 0.0269 Total Elapsed Time: 99.01\n",
      "Epoch: 3200 Loss: 0.0269 Total Elapsed Time: 102.12\n",
      "Epoch: 3300 Loss: 0.0269 Total Elapsed Time: 105.54\n",
      "Epoch: 3400 Loss: 0.0269 Total Elapsed Time: 108.85\n",
      "Epoch: 3500 Loss: 0.0269 Total Elapsed Time: 112.15\n",
      "Epoch: 3600 Loss: 0.0268 Total Elapsed Time: 115.40\n",
      "Epoch: 3700 Loss: 0.0268 Total Elapsed Time: 118.81\n",
      "Epoch: 3800 Loss: 0.0268 Total Elapsed Time: 122.40\n",
      "Epoch: 3900 Loss: 0.0268 Total Elapsed Time: 125.61\n",
      "Epoch: 4000 Loss: 0.0268 Total Elapsed Time: 129.01\n",
      "Epoch: 4100 Loss: 0.0268 Total Elapsed Time: 132.29\n",
      "Epoch: 4200 Loss: 0.0268 Total Elapsed Time: 135.96\n",
      "Epoch: 4300 Loss: 0.0268 Total Elapsed Time: 139.31\n",
      "Epoch: 4400 Loss: 0.0267 Total Elapsed Time: 142.68\n",
      "Epoch: 4500 Loss: 0.0267 Total Elapsed Time: 145.96\n",
      "Epoch: 4600 Loss: 0.0267 Total Elapsed Time: 149.30\n",
      "Epoch: 4700 Loss: 0.0267 Total Elapsed Time: 152.70\n",
      "Epoch: 4800 Loss: 0.0267 Total Elapsed Time: 155.99\n",
      "Epoch: 4900 Loss: 0.0267 Total Elapsed Time: 159.36\n",
      "Epoch: 5000 Loss: 0.0267 Total Elapsed Time: 162.77\n",
      "Epoch: 5100 Loss: 0.0266 Total Elapsed Time: 166.10\n",
      "Epoch: 5200 Loss: 0.0266 Total Elapsed Time: 169.49\n",
      "Epoch: 5300 Loss: 0.0266 Total Elapsed Time: 172.77\n",
      "Epoch: 5400 Loss: 0.0266 Total Elapsed Time: 176.20\n",
      "Epoch: 5500 Loss: 0.0266 Total Elapsed Time: 179.78\n",
      "Epoch: 5600 Loss: 0.0266 Total Elapsed Time: 183.40\n",
      "Epoch: 5700 Loss: 0.0266 Total Elapsed Time: 186.77\n",
      "Epoch: 5800 Loss: 0.0265 Total Elapsed Time: 190.26\n",
      "Epoch: 5900 Loss: 0.0265 Total Elapsed Time: 193.85\n",
      "Epoch: 6000 Loss: 0.0265 Total Elapsed Time: 197.29\n",
      "Epoch: 6100 Loss: 0.0265 Total Elapsed Time: 200.74\n",
      "Epoch: 6200 Loss: 0.0265 Total Elapsed Time: 204.19\n",
      "Epoch: 6300 Loss: 0.0265 Total Elapsed Time: 207.66\n",
      "Epoch: 6400 Loss: 0.0265 Total Elapsed Time: 211.21\n",
      "Epoch: 6500 Loss: 0.0265 Total Elapsed Time: 214.84\n",
      "Epoch: 6600 Loss: 0.0264 Total Elapsed Time: 218.27\n",
      "Epoch: 6700 Loss: 0.0264 Total Elapsed Time: 221.86\n",
      "Epoch: 6800 Loss: 0.0264 Total Elapsed Time: 225.33\n",
      "Epoch: 6900 Loss: 0.0264 Total Elapsed Time: 228.85\n",
      "Epoch: 7000 Loss: 0.0264 Total Elapsed Time: 232.38\n",
      "Epoch: 7100 Loss: 0.0264 Total Elapsed Time: 235.83\n",
      "Epoch: 7200 Loss: 0.0264 Total Elapsed Time: 239.30\n",
      "Epoch: 7300 Loss: 0.0264 Total Elapsed Time: 242.70\n",
      "Epoch: 7400 Loss: 0.0264 Total Elapsed Time: 246.03\n",
      "Epoch: 7500 Loss: 0.0263 Total Elapsed Time: 249.41\n",
      "Epoch: 7600 Loss: 0.0263 Total Elapsed Time: 252.95\n",
      "Epoch: 7700 Loss: 0.0263 Total Elapsed Time: 256.49\n",
      "Epoch: 7800 Loss: 0.0263 Total Elapsed Time: 260.12\n",
      "Epoch: 7900 Loss: 0.0263 Total Elapsed Time: 263.67\n",
      "Epoch: 8000 Loss: 0.0263 Total Elapsed Time: 267.44\n",
      "Epoch: 8100 Loss: 0.0262 Total Elapsed Time: 271.09\n",
      "Epoch: 8200 Loss: 0.0262 Total Elapsed Time: 274.52\n",
      "Epoch: 8300 Loss: 0.0262 Total Elapsed Time: 277.95\n",
      "Epoch: 8400 Loss: 0.0262 Total Elapsed Time: 281.47\n",
      "Epoch: 8500 Loss: 0.0262 Total Elapsed Time: 284.90\n",
      "Epoch: 8600 Loss: 0.0262 Total Elapsed Time: 288.51\n",
      "Epoch: 8700 Loss: 0.0262 Total Elapsed Time: 292.01\n",
      "Epoch: 8800 Loss: 0.0262 Total Elapsed Time: 295.36\n",
      "Epoch: 8900 Loss: 0.0261 Total Elapsed Time: 298.96\n",
      "Epoch: 9000 Loss: 0.0261 Total Elapsed Time: 302.40\n",
      "Epoch: 9100 Loss: 0.0261 Total Elapsed Time: 305.78\n",
      "Epoch: 9200 Loss: 0.0261 Total Elapsed Time: 309.34\n",
      "Epoch: 9300 Loss: 0.0261 Total Elapsed Time: 312.75\n",
      "Epoch: 9400 Loss: 0.0261 Total Elapsed Time: 316.18\n",
      "Epoch: 9500 Loss: 0.0261 Total Elapsed Time: 319.58\n",
      "Epoch: 9600 Loss: 0.0261 Total Elapsed Time: 323.21\n",
      "Epoch: 9700 Loss: 0.0260 Total Elapsed Time: 326.82\n",
      "Epoch: 9800 Loss: 0.0260 Total Elapsed Time: 330.59\n",
      "Epoch: 9900 Loss: 0.0260 Total Elapsed Time: 334.34\n"
     ]
    }
   ],
   "source": [
    "sch_pinn.fit(inputs, outputs, epochs = 10000, optimizer=tf.keras.optimizers.Adam(learning_rate=0.00001), progress_interval = 100, n_boundary_samples=1000)"
   ]
  },
  {
   "cell_type": "code",
   "execution_count": 11,
   "metadata": {},
   "outputs": [
    {
     "data": {
      "image/png": "[encoded data removed]",
      "text/plain": [
       "<Figure size 504x288 with 7 Axes>"
      ]
     },
     "metadata": {
      "needs_background": "light"
     },
     "output_type": "display_data"
    }
   ],
   "source": [
    "plot_schrodinger_model(sch_pinn.network, x_start, length, time)"
   ]
  },
  {
   "cell_type": "code",
   "execution_count": null,
   "metadata": {},
   "outputs": [],
   "source": []
  }
 ],
 "metadata": {
  "kernelspec": {
   "display_name": "Python 3.10.5 ('tf2')",
   "language": "python",
   "name": "python3"
  },
  "language_info": {
   "codemirror_mode": {
    "name": "ipython",
    "version": 3
   },
   "file_extension": ".py",
   "mimetype": "text/x-python",
   "name": "python",
   "nbconvert_exporter": "python",
   "pygments_lexer": "ipython3",
   "version": "3.10.5"
  },
  "orig_nbformat": 4,
  "vscode": {
   "interpreter": {
    "hash": "95b399d55d7ba88e1a788c9d84fe7761de08157d41dd32f183df354a9771fcfe"
   }
  }
 },
 "nbformat": 4,
 "nbformat_minor": 2
}
