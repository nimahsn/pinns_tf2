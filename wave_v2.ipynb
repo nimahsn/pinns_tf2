{
 "cells": [
  {
   "cell_type": "code",
   "execution_count": null,
   "metadata": {},
   "outputs": [],
   "source": [
    "from modules._models_v2 import create_dense_model, WavePinn\n",
    "from modules.plots import plot_training_loss_linlog, plot_wave_model\n",
    "from modules.data import simulate_wave\n",
    "import tensorflow as tf\n",
    "import numpy as np\n",
    "import matplotlib.pyplot as plt"
   ]
  },
  {
   "cell_type": "code",
   "execution_count": null,
   "metadata": {},
   "outputs": [],
   "source": [
    "#https://personal.math.ubc.ca/~feldman/m267/separation.pdf\n",
    "c = 1.0\n",
    "length = 1.0\n",
    "n_samples = 2000\n",
    "\n",
    "def f_u(tx):\n",
    "    t = tx[:, 0:1]\n",
    "    x = tx[:, 1:2]\n",
    "    return tf.sin(5 * np.pi * x) * tf.cos(5 * c * np.pi * t) + \\\n",
    "        2*tf.sin(7 * np.pi * x) * tf.cos(7 * c * np.pi * t)\n",
    "\n",
    "def f_u_init(tx):\n",
    "    x = tx[:, 1:2]\n",
    "    return tf.sin(5 * np.pi * x) + 2*tf.sin(7 * np.pi * x)\n",
    "\n",
    "def f_du_dt(tx):\n",
    "    return tf.zeros_like(tx[:, 0:1])\n",
    "\n",
    "def f_u_bnd(tx):\n",
    "    return tf.zeros_like(tx[:, 1:2])"
   ]
  },
  {
   "cell_type": "code",
   "execution_count": null,
   "metadata": {},
   "outputs": [],
   "source": [
    "(tx_samples, residual), (tx_init, u_init, du_dt_init), (tx_bndry, u_bndry) = simulate_wave(n_samples, f_u_init, f_du_dt, f_u_bnd)"
   ]
  },
  {
   "cell_type": "code",
   "execution_count": null,
   "metadata": {},
   "outputs": [],
   "source": [
    "inputs = [tx_samples, tx_init, tx_bndry]\n",
    "outputs = [f_u(tx_samples), residual, u_init, du_dt_init, u_bndry]"
   ]
  },
  {
   "cell_type": "code",
   "execution_count": null,
   "metadata": {},
   "outputs": [],
   "source": [
    "backbone = create_dense_model([128]*3, 'elu', 'he_normal', n_inputs=2, n_outputs=1)\n",
    "pinn = WavePinn(backbone, c)\n",
    "scheduler = tf.keras.optimizers.schedules.ExponentialDecay(1e-3, 500, 0.93)\n",
    "optimizer = tf.keras.optimizers.Adam(scheduler)\n",
    "pinn.compile(optimizer=optimizer)"
   ]
  },
  {
   "cell_type": "code",
   "execution_count": null,
   "metadata": {},
   "outputs": [],
   "source": [
    "history = pinn.fit(inputs, outputs, epochs=10000, batch_size=200, verbose=0)"
   ]
  },
  {
   "cell_type": "code",
   "execution_count": null,
   "metadata": {},
   "outputs": [],
   "source": [
    "plot_training_loss_linlog(history.history)"
   ]
  },
  {
   "cell_type": "code",
   "execution_count": null,
   "metadata": {},
   "outputs": [],
   "source": [
    "plot_wave_model(pinn.backbone, 0, 1.0, 1)"
   ]
  },
  {
   "cell_type": "code",
   "execution_count": null,
   "metadata": {},
   "outputs": [],
   "source": [
    "def plot_wave_at_x(model, x, time, save_path = None) -> None:\n",
    "    \"\"\"\n",
    "    Plot the solution of the wave equation for a given model at a given x coordinate.\n",
    "    Args:\n",
    "        model (tf.keras.Model): Model that predicts the solution of the wave equation.\n",
    "        x (float): x coordinate of the plot.\n",
    "        time (float): Time frame of the simulation.\n",
    "        save_path (str, optional): Path to save the plot. Defaults to None.\n",
    "    \"\"\"\n",
    "    t = np.linspace(0, time, 100)\n",
    "    u = model.predict(np.stack([t, np.full(t.shape, x)], axis=-1), batch_size=1000)\n",
    "    plt.plot(t, u)\n",
    "    plt.xlabel('t')\n",
    "    plt.ylabel('u')\n",
    "    if save_path:\n",
    "        plt.savefig(save_path)\n",
    "    plt.show()"
   ]
  },
  {
   "cell_type": "code",
   "execution_count": null,
   "metadata": {},
   "outputs": [],
   "source": [
    "plot_wave_at_x(pinn.backbone, 0.5, 0.5)"
   ]
  },
  {
   "cell_type": "code",
   "execution_count": null,
   "metadata": {},
   "outputs": [],
   "source": []
  },
  {
   "cell_type": "code",
   "execution_count": null,
   "metadata": {},
   "outputs": [],
   "source": []
  }
 ],
 "metadata": {
  "kernelspec": {
   "display_name": "tf2",
   "language": "python",
   "name": "python3"
  },
  "language_info": {
   "codemirror_mode": {
    "name": "ipython",
    "version": 3
   },
   "file_extension": ".py",
   "mimetype": "text/x-python",
   "name": "python",
   "nbconvert_exporter": "python",
   "pygments_lexer": "ipython3",
   "version": "3.10.8"
  },
  "orig_nbformat": 4,
  "vscode": {
   "interpreter": {
    "hash": "95b399d55d7ba88e1a788c9d84fe7761de08157d41dd32f183df354a9771fcfe"
   }
  }
 },
 "nbformat": 4,
 "nbformat_minor": 2
}
