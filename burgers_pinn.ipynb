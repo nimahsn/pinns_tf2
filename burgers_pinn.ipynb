{
  "cells": [
    {
      "cell_type": "code",
      "execution_count": 1,
      "metadata": {},
      "outputs": [],
      "source": [
        "from models import BurgersPinn\n",
        "from utils import plot_burgers_model, simulate_burgers\n",
        "import tensorflow as tf\n",
        "from tensorflow import keras"
      ]
    },
    {
      "cell_type": "code",
      "execution_count": 2,
      "metadata": {
        "id": "nTt_kvzss1RP"
      },
      "outputs": [
        {
          "name": "stderr",
          "output_type": "stream",
          "text": [
            "2022-10-16 01:15:37.728213: I tensorflow/stream_executor/cuda/cuda_gpu_executor.cc:936] successful NUMA node read from SysFS had negative value (-1), but there must be at least one NUMA node, so returning NUMA node zero\n",
            "2022-10-16 01:15:37.770973: I tensorflow/stream_executor/cuda/cuda_gpu_executor.cc:936] successful NUMA node read from SysFS had negative value (-1), but there must be at least one NUMA node, so returning NUMA node zero\n",
            "2022-10-16 01:15:37.771201: I tensorflow/stream_executor/cuda/cuda_gpu_executor.cc:936] successful NUMA node read from SysFS had negative value (-1), but there must be at least one NUMA node, so returning NUMA node zero\n",
            "2022-10-16 01:15:37.771695: I tensorflow/core/platform/cpu_feature_guard.cc:151] This TensorFlow binary is optimized with oneAPI Deep Neural Network Library (oneDNN) to use the following CPU instructions in performance-critical operations:  SSE4.1 SSE4.2 AVX AVX2 FMA\n",
            "To enable them in other operations, rebuild TensorFlow with the appropriate compiler flags.\n",
            "2022-10-16 01:15:37.772183: I tensorflow/stream_executor/cuda/cuda_gpu_executor.cc:936] successful NUMA node read from SysFS had negative value (-1), but there must be at least one NUMA node, so returning NUMA node zero\n",
            "2022-10-16 01:15:37.772429: I tensorflow/stream_executor/cuda/cuda_gpu_executor.cc:936] successful NUMA node read from SysFS had negative value (-1), but there must be at least one NUMA node, so returning NUMA node zero\n",
            "2022-10-16 01:15:37.772621: I tensorflow/stream_executor/cuda/cuda_gpu_executor.cc:936] successful NUMA node read from SysFS had negative value (-1), but there must be at least one NUMA node, so returning NUMA node zero\n",
            "2022-10-16 01:15:38.436341: I tensorflow/stream_executor/cuda/cuda_gpu_executor.cc:936] successful NUMA node read from SysFS had negative value (-1), but there must be at least one NUMA node, so returning NUMA node zero\n",
            "2022-10-16 01:15:38.436626: I tensorflow/stream_executor/cuda/cuda_gpu_executor.cc:936] successful NUMA node read from SysFS had negative value (-1), but there must be at least one NUMA node, so returning NUMA node zero\n",
            "2022-10-16 01:15:38.436821: I tensorflow/stream_executor/cuda/cuda_gpu_executor.cc:936] successful NUMA node read from SysFS had negative value (-1), but there must be at least one NUMA node, so returning NUMA node zero\n",
            "2022-10-16 01:15:38.436978: I tensorflow/core/common_runtime/gpu/gpu_device.cc:1525] Created device /job:localhost/replica:0/task:0/device:GPU:0 with 3375 MB memory:  -> device: 0, name: NVIDIA GeForce MX150, pci bus id: 0000:01:00.0, compute capability: 6.1\n"
          ]
        }
      ],
      "source": [
        "network = BurgersPinn.build_network([8, 16, 32, 64, 128])\n",
        "pinn_model = BurgersPinn(network, nu=0.01)\n",
        "pinn_model.compile()"
      ]
    },
    {
      "cell_type": "code",
      "execution_count": 3,
      "metadata": {
        "id": "g0bDLHc8u05V"
      },
      "outputs": [],
      "source": [
        "(tx_samples, y_samples), (tx_init, y_init), (tx_boundary, y_boundary) = simulate_burgers(2000)\n",
        "inputs = tf.stack([tx_samples, tx_init, tx_boundary], axis=0)\n",
        "outputs = tf.stack([y_samples, y_init, y_boundary], axis=0)"
      ]
    },
    {
      "cell_type": "code",
      "execution_count": 4,
      "metadata": {
        "id": "7Fim422wu7GF"
      },
      "outputs": [
        {
          "name": "stderr",
          "output_type": "stream",
          "text": [
            "/home/nimahsn/anaconda3/envs/tf2/lib/python3.10/site-packages/keras/optimizer_v2/adam.py:105: UserWarning: The `lr` argument is deprecated, use `learning_rate` instead.\n",
            "  super(Adam, self).__init__(name, **kwargs)\n"
          ]
        },
        {
          "name": "stdout",
          "output_type": "stream",
          "text": [
            "Epoch: 0 Loss: 0.5590 Total Elapsed Time: 2.68\n",
            "Epoch: 200 Loss: 0.1426 Total Elapsed Time: 6.35\n",
            "Epoch: 400 Loss: 0.1138 Total Elapsed Time: 10.04\n",
            "Epoch: 600 Loss: 0.0811 Total Elapsed Time: 13.48\n",
            "Epoch: 800 Loss: 0.0710 Total Elapsed Time: 17.02\n",
            "Epoch: 1000 Loss: 0.0662 Total Elapsed Time: 20.39\n",
            "Epoch: 1200 Loss: 0.0887 Total Elapsed Time: 23.82\n",
            "Epoch: 1400 Loss: 0.0634 Total Elapsed Time: 27.28\n",
            "Epoch: 1600 Loss: 0.0647 Total Elapsed Time: 31.16\n",
            "Epoch: 1800 Loss: 0.0563 Total Elapsed Time: 35.00\n",
            "Epoch: 2000 Loss: 0.0540 Total Elapsed Time: 38.50\n",
            "Epoch: 2200 Loss: 0.0522 Total Elapsed Time: 41.95\n",
            "Epoch: 2400 Loss: 0.0504 Total Elapsed Time: 45.30\n",
            "Epoch: 2600 Loss: 0.0484 Total Elapsed Time: 48.68\n",
            "Epoch: 2800 Loss: 0.0547 Total Elapsed Time: 52.11\n",
            "Epoch: 3000 Loss: 0.0434 Total Elapsed Time: 55.56\n",
            "Epoch: 3200 Loss: 0.0408 Total Elapsed Time: 58.97\n",
            "Epoch: 3400 Loss: 0.0378 Total Elapsed Time: 62.39\n",
            "Epoch: 3600 Loss: 0.0344 Total Elapsed Time: 65.77\n",
            "Epoch: 3800 Loss: 0.0327 Total Elapsed Time: 69.16\n",
            "Epoch: 4000 Loss: 0.0317 Total Elapsed Time: 72.93\n",
            "Epoch: 4200 Loss: 0.0260 Total Elapsed Time: 76.65\n",
            "Epoch: 4400 Loss: 0.0225 Total Elapsed Time: 80.51\n",
            "Epoch: 4600 Loss: 0.0231 Total Elapsed Time: 84.32\n",
            "Epoch: 4800 Loss: 0.0170 Total Elapsed Time: 88.12\n"
          ]
        }
      ],
      "source": [
        "pinn_model.fit(inputs, outputs, epochs=5000, optimizer=keras.optimizers.Adam(lr=0.001), progress_interval=200)"
      ]
    },
    {
      "cell_type": "code",
      "execution_count": 6,
      "metadata": {},
      "outputs": [
        {
          "name": "stderr",
          "output_type": "stream",
          "text": [
            "/home/nimahsn/anaconda3/envs/tf2/lib/python3.10/site-packages/keras/optimizer_v2/adam.py:105: UserWarning: The `lr` argument is deprecated, use `learning_rate` instead.\n",
            "  super(Adam, self).__init__(name, **kwargs)\n"
          ]
        },
        {
          "name": "stdout",
          "output_type": "stream",
          "text": [
            "Epoch: 0 Loss: 0.0150 Total Elapsed Time: 0.05\n",
            "Epoch: 200 Loss: 0.0147 Total Elapsed Time: 3.93\n",
            "Epoch: 400 Loss: 0.0140 Total Elapsed Time: 7.89\n",
            "Epoch: 600 Loss: 0.0132 Total Elapsed Time: 11.65\n",
            "Epoch: 800 Loss: 0.0122 Total Elapsed Time: 15.38\n",
            "Epoch: 1000 Loss: 0.0113 Total Elapsed Time: 18.89\n",
            "Epoch: 1200 Loss: 0.0105 Total Elapsed Time: 22.44\n",
            "Epoch: 1400 Loss: 0.0099 Total Elapsed Time: 26.04\n",
            "Epoch: 1600 Loss: 0.0100 Total Elapsed Time: 29.54\n",
            "Epoch: 1800 Loss: 0.0086 Total Elapsed Time: 33.13\n",
            "Epoch: 2000 Loss: 0.0080 Total Elapsed Time: 36.70\n",
            "Epoch: 2200 Loss: 0.0075 Total Elapsed Time: 40.11\n",
            "Epoch: 2400 Loss: 0.0070 Total Elapsed Time: 43.55\n",
            "Epoch: 2600 Loss: 0.0067 Total Elapsed Time: 47.17\n",
            "Epoch: 2800 Loss: 0.0067 Total Elapsed Time: 50.68\n",
            "Epoch: 3000 Loss: 0.0094 Total Elapsed Time: 54.32\n",
            "Epoch: 3200 Loss: 0.0056 Total Elapsed Time: 57.90\n",
            "Epoch: 3400 Loss: 0.0053 Total Elapsed Time: 61.40\n",
            "Epoch: 3600 Loss: 0.0050 Total Elapsed Time: 65.15\n",
            "Epoch: 3800 Loss: 0.0050 Total Elapsed Time: 68.86\n",
            "Epoch: 4000 Loss: 0.0158 Total Elapsed Time: 72.52\n",
            "Epoch: 4200 Loss: 0.0042 Total Elapsed Time: 76.02\n",
            "Epoch: 4400 Loss: 0.0039 Total Elapsed Time: 79.60\n",
            "Epoch: 4600 Loss: 0.0037 Total Elapsed Time: 83.13\n",
            "Epoch: 4800 Loss: 0.0035 Total Elapsed Time: 86.75\n"
          ]
        }
      ],
      "source": [
        "pinn_model.fit(inputs, outputs, epochs=5000, optimizer=keras.optimizers.Adam(lr=0.0005), progress_interval=200)"
      ]
    },
    {
      "cell_type": "code",
      "execution_count": 8,
      "metadata": {},
      "outputs": [
        {
          "name": "stderr",
          "output_type": "stream",
          "text": [
            "/home/nimahsn/anaconda3/envs/tf2/lib/python3.10/site-packages/keras/optimizer_v2/adam.py:105: UserWarning: The `lr` argument is deprecated, use `learning_rate` instead.\n",
            "  super(Adam, self).__init__(name, **kwargs)\n"
          ]
        },
        {
          "name": "stdout",
          "output_type": "stream",
          "text": [
            "Epoch: 0 Loss: 0.0033 Total Elapsed Time: 0.06\n",
            "Epoch: 200 Loss: 0.0032 Total Elapsed Time: 3.98\n",
            "Epoch: 400 Loss: 0.0032 Total Elapsed Time: 7.77\n",
            "Epoch: 600 Loss: 0.0031 Total Elapsed Time: 11.55\n",
            "Epoch: 800 Loss: 0.0030 Total Elapsed Time: 15.22\n",
            "Epoch: 1000 Loss: 0.0028 Total Elapsed Time: 18.57\n",
            "Epoch: 1200 Loss: 0.0027 Total Elapsed Time: 22.07\n",
            "Epoch: 1400 Loss: 0.0026 Total Elapsed Time: 25.58\n",
            "Epoch: 1600 Loss: 0.0024 Total Elapsed Time: 28.94\n",
            "Epoch: 1800 Loss: 0.0023 Total Elapsed Time: 32.46\n",
            "Epoch: 2000 Loss: 0.0022 Total Elapsed Time: 35.94\n",
            "Epoch: 2200 Loss: 0.0021 Total Elapsed Time: 39.34\n",
            "Epoch: 2400 Loss: 0.0020 Total Elapsed Time: 43.03\n",
            "Epoch: 2600 Loss: 0.0019 Total Elapsed Time: 46.74\n",
            "Epoch: 2800 Loss: 0.0018 Total Elapsed Time: 50.20\n",
            "Epoch: 3000 Loss: 0.0017 Total Elapsed Time: 53.74\n",
            "Epoch: 3200 Loss: 0.0017 Total Elapsed Time: 57.21\n",
            "Epoch: 3400 Loss: 0.0016 Total Elapsed Time: 60.60\n",
            "Epoch: 3600 Loss: 0.0015 Total Elapsed Time: 64.13\n",
            "Epoch: 3800 Loss: 0.0015 Total Elapsed Time: 67.59\n",
            "Epoch: 4000 Loss: 0.0014 Total Elapsed Time: 71.14\n",
            "Epoch: 4200 Loss: 0.0014 Total Elapsed Time: 74.56\n",
            "Epoch: 4400 Loss: 0.0014 Total Elapsed Time: 78.09\n",
            "Epoch: 4600 Loss: 0.0013 Total Elapsed Time: 81.53\n",
            "Epoch: 4800 Loss: 0.0014 Total Elapsed Time: 85.03\n",
            "Epoch: 5000 Loss: 0.0015 Total Elapsed Time: 88.70\n",
            "Epoch: 5200 Loss: 0.0012 Total Elapsed Time: 92.38\n",
            "Epoch: 5400 Loss: 0.0012 Total Elapsed Time: 96.25\n",
            "Epoch: 5600 Loss: 0.0012 Total Elapsed Time: 100.14\n",
            "Epoch: 5800 Loss: 0.0011 Total Elapsed Time: 104.13\n",
            "Epoch: 6000 Loss: 0.0011 Total Elapsed Time: 108.13\n",
            "Epoch: 6200 Loss: 0.0011 Total Elapsed Time: 111.81\n",
            "Epoch: 6400 Loss: 0.0011 Total Elapsed Time: 115.21\n",
            "Epoch: 6600 Loss: 0.0010 Total Elapsed Time: 118.79\n",
            "Epoch: 6800 Loss: 0.0010 Total Elapsed Time: 122.20\n",
            "Epoch: 7000 Loss: 0.0010 Total Elapsed Time: 125.87\n",
            "Epoch: 7200 Loss: 0.0019 Total Elapsed Time: 130.40\n",
            "Epoch: 7400 Loss: 0.0010 Total Elapsed Time: 133.45\n",
            "Epoch: 7600 Loss: 0.0010 Total Elapsed Time: 136.43\n",
            "Epoch: 7800 Loss: 0.0009 Total Elapsed Time: 139.47\n",
            "Epoch: 8000 Loss: 0.0009 Total Elapsed Time: 142.48\n",
            "Epoch: 8200 Loss: 0.0009 Total Elapsed Time: 145.55\n",
            "Epoch: 8400 Loss: 0.0009 Total Elapsed Time: 148.57\n",
            "Epoch: 8600 Loss: 0.0009 Total Elapsed Time: 151.61\n",
            "Epoch: 8800 Loss: 0.0009 Total Elapsed Time: 154.77\n",
            "Epoch: 9000 Loss: 0.0011 Total Elapsed Time: 157.98\n",
            "Epoch: 9200 Loss: 0.0008 Total Elapsed Time: 161.09\n",
            "Epoch: 9400 Loss: 0.0014 Total Elapsed Time: 164.12\n",
            "Epoch: 9600 Loss: 0.0008 Total Elapsed Time: 167.27\n",
            "Epoch: 9800 Loss: 0.0008 Total Elapsed Time: 170.38\n"
          ]
        }
      ],
      "source": [
        "pinn_model.fit(inputs, outputs, epochs=10000, optimizer=keras.optimizers.Adam(lr=0.0001), progress_interval=200)"
      ]
    },
    {
      "cell_type": "code",
      "execution_count": 10,
      "metadata": {},
      "outputs": [
        {
          "name": "stdout",
          "output_type": "stream",
          "text": [
            "Epoch: 0 Loss: 0.0008 Total Elapsed Time: 0.08\n",
            "Epoch: 200 Loss: 0.0008 Total Elapsed Time: 4.01\n",
            "Epoch: 400 Loss: 0.0008 Total Elapsed Time: 7.84\n",
            "Epoch: 600 Loss: 0.0008 Total Elapsed Time: 11.55\n",
            "Epoch: 800 Loss: 0.0007 Total Elapsed Time: 15.25\n",
            "Epoch: 1000 Loss: 0.0007 Total Elapsed Time: 19.04\n",
            "Epoch: 1200 Loss: 0.0007 Total Elapsed Time: 22.52\n",
            "Epoch: 1400 Loss: 0.0007 Total Elapsed Time: 26.06\n",
            "Epoch: 1600 Loss: 0.0007 Total Elapsed Time: 29.64\n",
            "Epoch: 1800 Loss: 0.0007 Total Elapsed Time: 33.13\n",
            "Epoch: 2000 Loss: 0.0007 Total Elapsed Time: 36.70\n",
            "Epoch: 2200 Loss: 0.0007 Total Elapsed Time: 40.37\n",
            "Epoch: 2400 Loss: 0.0007 Total Elapsed Time: 44.19\n",
            "Epoch: 2600 Loss: 0.0007 Total Elapsed Time: 47.93\n",
            "Epoch: 2800 Loss: 0.0007 Total Elapsed Time: 51.41\n",
            "Epoch: 3000 Loss: 0.0007 Total Elapsed Time: 54.98\n",
            "Epoch: 3200 Loss: 0.0006 Total Elapsed Time: 58.51\n",
            "Epoch: 3400 Loss: 0.0006 Total Elapsed Time: 62.18\n",
            "Epoch: 3600 Loss: 0.0006 Total Elapsed Time: 65.85\n",
            "Epoch: 3800 Loss: 0.0006 Total Elapsed Time: 69.42\n",
            "Epoch: 4000 Loss: 0.0006 Total Elapsed Time: 72.97\n",
            "Epoch: 4200 Loss: 0.0006 Total Elapsed Time: 76.58\n",
            "Epoch: 4400 Loss: 0.0006 Total Elapsed Time: 80.27\n",
            "Epoch: 4600 Loss: 0.0006 Total Elapsed Time: 84.10\n",
            "Epoch: 4800 Loss: 0.0005 Total Elapsed Time: 87.79\n",
            "Epoch: 5000 Loss: 0.0005 Total Elapsed Time: 91.28\n",
            "Epoch: 5200 Loss: 0.0005 Total Elapsed Time: 94.83\n",
            "Epoch: 5400 Loss: 0.0005 Total Elapsed Time: 98.35\n",
            "Epoch: 5600 Loss: 0.0005 Total Elapsed Time: 101.87\n",
            "Epoch: 5800 Loss: 0.0005 Total Elapsed Time: 105.60\n",
            "Epoch: 6000 Loss: 0.0005 Total Elapsed Time: 109.20\n",
            "Epoch: 6200 Loss: 0.0005 Total Elapsed Time: 112.74\n",
            "Epoch: 6400 Loss: 0.0005 Total Elapsed Time: 116.45\n",
            "Epoch: 6600 Loss: 0.0005 Total Elapsed Time: 120.30\n",
            "Epoch: 6800 Loss: 0.0005 Total Elapsed Time: 124.10\n",
            "Epoch: 7000 Loss: 0.0005 Total Elapsed Time: 127.79\n",
            "Epoch: 7200 Loss: 0.0005 Total Elapsed Time: 132.23\n",
            "Epoch: 7400 Loss: 0.0004 Total Elapsed Time: 136.44\n",
            "Epoch: 7600 Loss: 0.0004 Total Elapsed Time: 140.47\n",
            "Epoch: 7800 Loss: 0.0004 Total Elapsed Time: 144.40\n",
            "Epoch: 8000 Loss: 0.0004 Total Elapsed Time: 147.87\n",
            "Epoch: 8200 Loss: 0.0004 Total Elapsed Time: 151.22\n",
            "Epoch: 8400 Loss: 0.0004 Total Elapsed Time: 154.73\n",
            "Epoch: 8600 Loss: 0.0004 Total Elapsed Time: 158.20\n",
            "Epoch: 8800 Loss: 0.0004 Total Elapsed Time: 161.59\n",
            "Epoch: 9000 Loss: 0.0004 Total Elapsed Time: 165.06\n",
            "Epoch: 9200 Loss: 0.0004 Total Elapsed Time: 168.57\n",
            "Epoch: 9400 Loss: 0.0004 Total Elapsed Time: 172.02\n",
            "Epoch: 9600 Loss: 0.0004 Total Elapsed Time: 175.65\n",
            "Epoch: 9800 Loss: 0.0004 Total Elapsed Time: 179.13\n"
          ]
        }
      ],
      "source": [
        "pinn_model.fit(inputs, outputs, epochs=10000, optimizer=keras.optimizers.Adam(lr=0.00005), progress_interval=200)"
      ]
    },
    {
      "cell_type": "code",
      "execution_count": 11,
      "metadata": {},
      "outputs": [
        {
          "data": {
            "image/png": "[encoded data removed]",
            "text/plain": [
              "<Figure size 504x288 with 7 Axes>"
            ]
          },
          "metadata": {
            "needs_background": "light"
          },
          "output_type": "display_data"
        }
      ],
      "source": [
        "plot_burgers_model(pinn_model.network)"
      ]
    },
    {
      "cell_type": "code",
      "execution_count": null,
      "metadata": {},
      "outputs": [],
      "source": []
    }
  ],
  "metadata": {
    "colab": {
      "provenance": []
    },
    "kernelspec": {
      "display_name": "Python 3.10.6 ('tf2-pinn')",
      "language": "python",
      "name": "python3"
    },
    "language_info": {
      "codemirror_mode": {
        "name": "ipython",
        "version": 3
      },
      "file_extension": ".py",
      "mimetype": "text/x-python",
      "name": "python",
      "nbconvert_exporter": "python",
      "pygments_lexer": "ipython3",
      "version": "3.10.6"
    },
    "vscode": {
      "interpreter": {
        "hash": "e186c38e7d8b9112f5aec0d01a09336163341258afaa29e2c2eecdf076e8d0c2"
      }
    }
  },
  "nbformat": 4,
  "nbformat_minor": 0
}
