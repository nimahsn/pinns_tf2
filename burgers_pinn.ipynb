{
  "cells": [
    {
      "cell_type": "code",
      "execution_count": 1,
      "metadata": {
        "id": "jWzC4kfYa-Cd"
      },
      "outputs": [],
      "source": [
        "from tensorflow import keras\n",
        "import tensorflow as tf\n",
        "import numpy as np\n",
        "import matplotlib.pyplot as plt\n",
        "from matplotlib.gridspec import GridSpec\n",
        "import os\n",
        "import time"
      ]
    },
    {
      "cell_type": "code",
      "execution_count": 2,
      "metadata": {
        "colab": {
          "base_uri": "https://localhost:8080/",
          "height": 134
        },
        "id": "GiHtqYSvcH5B",
        "outputId": "56463764-c985-45ad-c05c-fac65e17a2c6"
      },
      "outputs": [],
      "source": [
        "class BurgersPinn(keras.Model):\n",
        "  def __init__(self, nu, network, n_inputs=2, n_outputs=1):\n",
        "    super().__init__()\n",
        "    self.network = network\n",
        "    self.nu = nu\n",
        "    self.n_inputs = n_inputs,\n",
        "    self.n_outputs = n_outputs\n",
        "\n",
        "  def fit(self, inputs, epochs, progress_interval=500, **kwargs):\n",
        "    optimizer = keras.optimizers.SGD(learning_rate=0.001)\n",
        "    start_time = time.time()\n",
        "    for epoch in range(epochs):\n",
        "      with tf.GradientTape() as tape:\n",
        "        self.call(inputs, training=True)\n",
        "        loss = tf.reduce_sum(self.losses)\n",
        "        \n",
        "      grads = tape.gradient(loss, self.trainable_weights)\n",
        "      optimizer.apply_gradients(zip(grads, self.trainable_weights))\n",
        "      if epoch % progress_interval == 0:\n",
        "        print(f\"Epoch: {epoch} Loss: {loss.numpy():.4f} Total Elapsed Time: {time.time() - start_time:.2f}\")\n",
        "\n",
        "  @tf.function\n",
        "  def input_gradient(self, x):\n",
        "      with tf.GradientTape() as g2tape: # grad tape for getting second order derivatives\n",
        "        g2tape.watch(x) # gradients w.r.t. inputs\n",
        "        with tf.GradientTape() as gtape: # grad tape for first order drivatives\n",
        "          gtape.watch(x)\n",
        "          u = self.network(x)\n",
        "        \n",
        "        first_order = gtape.batch_jacobian(u, x)\n",
        "        u_t = first_order[..., 0]\n",
        "        u_x = first_order[..., 1]\n",
        "      \n",
        "      u_xx = g2tape.batch_jacobian(u_x, x)[..., 1]\n",
        "      return u, u_t, u_x, u_xx\n",
        "  \n",
        "  def call(self, inputs, training=True): \n",
        "    if training:\n",
        "      tx_equation = inputs[0]\n",
        "    else:\n",
        "      tx_equation = inputs\n",
        "    u, u_t, u_x, u_xx = self.input_gradient(tx_equation)\n",
        "    burgers_eq = u_t + u*u_x - self.nu*u_xx\n",
        "    self.add_loss(lambda: tf.reduce_mean(tf.square(burgers_eq)))\n",
        "\n",
        "    if training:\n",
        "      tx_init = inputs[1]\n",
        "      tx_bound = inputs[2]\n",
        "      n_i = tx_init.shape[0]\n",
        "      u_ib = self.network(tf.concat([tx_init, tx_bound], axis = 0))\n",
        "\n",
        "      self.add_loss(lambda: tf.reduce_mean(tf.square(u_ib[:n_i] - tf.sin(np.pi*tx_init[..., 1]))))\n",
        "      self.add_loss(lambda: tf.reduce_mean(tf.square(u_ib[n_i:])))\n",
        "\n",
        "      return burgers_eq\n",
        "\n",
        "    return burgers_eq\n",
        "  \n",
        "  @staticmethod\n",
        "  def build_network(layers, n_inputs=2, n_outputs=1, activation=keras.activations.tanh, initialization=keras.initializers.glorot_normal):\n",
        "    inputs = keras.layers.Input((n_inputs))\n",
        "    x = inputs\n",
        "    for i in layers:\n",
        "      x = keras.layers.Dense(i, activation = activation, kernel_initializer=initialization)(x)\n",
        "    \n",
        "    outputs = keras.layers.Dense(n_outputs, kernel_initializer=initialization)(x)\n",
        "    return keras.Model(inputs=[inputs], outputs = [outputs])\n",
        "\n",
        "  @staticmethod\n",
        "  def simulate_burgers(n_samples, training = True, dtype=tf.float32, boundary_samples = None, random_seed = 42):\n",
        "    r = np.random.RandomState(random_seed)\n",
        "    tx_samples = r.uniform(0, 1, (n_samples, 2))\n",
        "    tx_samples[:, 1] = tx_samples[:, 1]*2 - 1\n",
        "\n",
        "    if training:\n",
        "      tx_init = np.zeros((boundary_samples, 1))\n",
        "      tx_init = np.append(tx_init, r.uniform(-1, 1, (boundary_samples, 1)), axis=1)\n",
        "\n",
        "      tx_boundary = r.uniform(0, 1, (boundary_samples, 1))\n",
        "      ones = np.ones((boundary_samples//2, 1))\n",
        "      ones = np.append(ones, -np.ones((boundary_samples - boundary_samples//2, 1)), axis=0)\n",
        "      tx_boundary = np.append(tx_boundary, ones, axis=1)\n",
        "      r.shuffle(tx_boundary)\n",
        "      return tf.convert_to_tensor(tx_samples, dtype=dtype), tf.convert_to_tensor(tx_init, dtype=dtype), tf.convert_to_tensor(tx_boundary, dtype=dtype)\n",
        "    \n",
        "    return tx_samples\n",
        "\n",
        "    "
      ]
    },
    {
      "cell_type": "code",
      "execution_count": 3,
      "metadata": {
        "id": "nTt_kvzss1RP"
      },
      "outputs": [
        {
          "name": "stderr",
          "output_type": "stream",
          "text": [
            "2022-10-13 01:20:52.623650: I tensorflow/stream_executor/cuda/cuda_gpu_executor.cc:936] successful NUMA node read from SysFS had negative value (-1), but there must be at least one NUMA node, so returning NUMA node zero\n",
            "2022-10-13 01:20:52.669586: I tensorflow/stream_executor/cuda/cuda_gpu_executor.cc:936] successful NUMA node read from SysFS had negative value (-1), but there must be at least one NUMA node, so returning NUMA node zero\n",
            "2022-10-13 01:20:52.669845: I tensorflow/stream_executor/cuda/cuda_gpu_executor.cc:936] successful NUMA node read from SysFS had negative value (-1), but there must be at least one NUMA node, so returning NUMA node zero\n",
            "2022-10-13 01:20:52.670333: I tensorflow/core/platform/cpu_feature_guard.cc:151] This TensorFlow binary is optimized with oneAPI Deep Neural Network Library (oneDNN) to use the following CPU instructions in performance-critical operations:  SSE4.1 SSE4.2 AVX AVX2 FMA\n",
            "To enable them in other operations, rebuild TensorFlow with the appropriate compiler flags.\n",
            "2022-10-13 01:20:52.670834: I tensorflow/stream_executor/cuda/cuda_gpu_executor.cc:936] successful NUMA node read from SysFS had negative value (-1), but there must be at least one NUMA node, so returning NUMA node zero\n",
            "2022-10-13 01:20:52.671031: I tensorflow/stream_executor/cuda/cuda_gpu_executor.cc:936] successful NUMA node read from SysFS had negative value (-1), but there must be at least one NUMA node, so returning NUMA node zero\n",
            "2022-10-13 01:20:52.671221: I tensorflow/stream_executor/cuda/cuda_gpu_executor.cc:936] successful NUMA node read from SysFS had negative value (-1), but there must be at least one NUMA node, so returning NUMA node zero\n",
            "2022-10-13 01:20:53.443292: I tensorflow/stream_executor/cuda/cuda_gpu_executor.cc:936] successful NUMA node read from SysFS had negative value (-1), but there must be at least one NUMA node, so returning NUMA node zero\n",
            "2022-10-13 01:20:53.443987: I tensorflow/stream_executor/cuda/cuda_gpu_executor.cc:936] successful NUMA node read from SysFS had negative value (-1), but there must be at least one NUMA node, so returning NUMA node zero\n",
            "2022-10-13 01:20:53.444365: I tensorflow/stream_executor/cuda/cuda_gpu_executor.cc:936] successful NUMA node read from SysFS had negative value (-1), but there must be at least one NUMA node, so returning NUMA node zero\n",
            "2022-10-13 01:20:53.444734: I tensorflow/core/common_runtime/gpu/gpu_device.cc:1525] Created device /job:localhost/replica:0/task:0/device:GPU:0 with 3375 MB memory:  -> device: 0, name: NVIDIA GeForce MX150, pci bus id: 0000:01:00.0, compute capability: 6.1\n"
          ]
        }
      ],
      "source": [
        "network = BurgersPinn.build_network([16, 32])"
      ]
    },
    {
      "cell_type": "code",
      "execution_count": 4,
      "metadata": {
        "id": "fLxhOPlPuOAU"
      },
      "outputs": [],
      "source": [
        "pinn_model = BurgersPinn(0.01*np.pi, network)"
      ]
    },
    {
      "cell_type": "code",
      "execution_count": 5,
      "metadata": {
        "id": "g0bDLHc8u05V"
      },
      "outputs": [],
      "source": [
        "tx_samples, tx_init, tx_boundary = BurgersPinn.simulate_burgers(1000, training=True, boundary_samples=1000)"
      ]
    },
    {
      "cell_type": "code",
      "execution_count": 6,
      "metadata": {},
      "outputs": [],
      "source": [
        "pinn_model.compile()"
      ]
    },
    {
      "cell_type": "code",
      "execution_count": 7,
      "metadata": {
        "id": "7Fim422wu7GF"
      },
      "outputs": [
        {
          "name": "stdout",
          "output_type": "stream",
          "text": [
            "Epoch: 0 Loss: 0.7734 Total Elapsed Time: 1.48\n",
            "Epoch: 100 Loss: 60.1414 Total Elapsed Time: 7.73\n",
            "Epoch: 200 Loss: 110.5889 Total Elapsed Time: 24.70\n",
            "Epoch: 300 Loss: 160.1518 Total Elapsed Time: 54.65\n",
            "Epoch: 400 Loss: 209.6028 Total Elapsed Time: 92.57\n",
            "Epoch: 500 Loss: 259.0380 Total Elapsed Time: 142.92\n",
            "Epoch: 600 Loss: 308.4703 Total Elapsed Time: 210.28\n"
          ]
        },
        {
          "ename": "KeyboardInterrupt",
          "evalue": "",
          "output_type": "error",
          "traceback": [
            "\u001b[0;31m---------------------------------------------------------------------------\u001b[0m",
            "\u001b[0;31mKeyboardInterrupt\u001b[0m                         Traceback (most recent call last)",
            "\u001b[1;32m/home/nimahsn/Documents/Western/pde/pinns/burgers_pinn.ipynb Cell 7\u001b[0m in \u001b[0;36m<cell line: 1>\u001b[0;34m()\u001b[0m\n\u001b[0;32m----> <a href='vscode-notebook-cell:/home/nimahsn/Documents/Western/pde/pinns/burgers_pinn.ipynb#W5sZmlsZQ%3D%3D?line=0'>1</a>\u001b[0m pinn_model\u001b[39m.\u001b[39;49mfit(tf\u001b[39m.\u001b[39;49mstack([tx_samples, tx_init, tx_boundary], axis\u001b[39m=\u001b[39;49m\u001b[39m0\u001b[39;49m), epochs\u001b[39m=\u001b[39;49m\u001b[39m5000\u001b[39;49m, progress_interval\u001b[39m=\u001b[39;49m\u001b[39m100\u001b[39;49m)\n",
            "\u001b[1;32m/home/nimahsn/Documents/Western/pde/pinns/burgers_pinn.ipynb Cell 7\u001b[0m in \u001b[0;36mBurgersPinn.fit\u001b[0;34m(self, inputs, epochs, progress_interval, **kwargs)\u001b[0m\n\u001b[1;32m     <a href='vscode-notebook-cell:/home/nimahsn/Documents/Western/pde/pinns/burgers_pinn.ipynb#W5sZmlsZQ%3D%3D?line=12'>13</a>\u001b[0m \u001b[39mwith\u001b[39;00m tf\u001b[39m.\u001b[39mGradientTape() \u001b[39mas\u001b[39;00m tape:\n\u001b[1;32m     <a href='vscode-notebook-cell:/home/nimahsn/Documents/Western/pde/pinns/burgers_pinn.ipynb#W5sZmlsZQ%3D%3D?line=13'>14</a>\u001b[0m   \u001b[39mself\u001b[39m\u001b[39m.\u001b[39mcall(inputs, training\u001b[39m=\u001b[39m\u001b[39mTrue\u001b[39;00m)\n\u001b[0;32m---> <a href='vscode-notebook-cell:/home/nimahsn/Documents/Western/pde/pinns/burgers_pinn.ipynb#W5sZmlsZQ%3D%3D?line=14'>15</a>\u001b[0m   loss \u001b[39m=\u001b[39m tf\u001b[39m.\u001b[39mreduce_sum(\u001b[39mself\u001b[39;49m\u001b[39m.\u001b[39;49mlosses)\n\u001b[1;32m     <a href='vscode-notebook-cell:/home/nimahsn/Documents/Western/pde/pinns/burgers_pinn.ipynb#W5sZmlsZQ%3D%3D?line=16'>17</a>\u001b[0m grads \u001b[39m=\u001b[39m tape\u001b[39m.\u001b[39mgradient(loss, \u001b[39mself\u001b[39m\u001b[39m.\u001b[39mtrainable_weights)\n\u001b[1;32m     <a href='vscode-notebook-cell:/home/nimahsn/Documents/Western/pde/pinns/burgers_pinn.ipynb#W5sZmlsZQ%3D%3D?line=17'>18</a>\u001b[0m optimizer\u001b[39m.\u001b[39mapply_gradients(\u001b[39mzip\u001b[39m(grads, \u001b[39mself\u001b[39m\u001b[39m.\u001b[39mtrainable_weights))\n",
            "File \u001b[0;32m~/anaconda3/envs/tf2/lib/python3.10/site-packages/keras/engine/base_layer.py:1472\u001b[0m, in \u001b[0;36mLayer.losses\u001b[0;34m(self)\u001b[0m\n\u001b[1;32m   1470\u001b[0m   collected_losses\u001b[39m.\u001b[39mextend(layer\u001b[39m.\u001b[39m_losses)\n\u001b[1;32m   1471\u001b[0m \u001b[39mfor\u001b[39;00m regularizer \u001b[39min\u001b[39;00m layer\u001b[39m.\u001b[39m_callable_losses:\n\u001b[0;32m-> 1472\u001b[0m   loss_tensor \u001b[39m=\u001b[39m regularizer()\n\u001b[1;32m   1473\u001b[0m   \u001b[39mif\u001b[39;00m loss_tensor \u001b[39mis\u001b[39;00m \u001b[39mnot\u001b[39;00m \u001b[39mNone\u001b[39;00m:\n\u001b[1;32m   1474\u001b[0m     collected_losses\u001b[39m.\u001b[39mappend(loss_tensor)\n",
            "File \u001b[0;32m~/anaconda3/envs/tf2/lib/python3.10/site-packages/keras/engine/base_layer.py:1548\u001b[0m, in \u001b[0;36mLayer.add_loss.<locals>._tag_callable\u001b[0;34m(loss)\u001b[0m\n\u001b[1;32m   1544\u001b[0m \u001b[39mif\u001b[39;00m callable(loss):\n\u001b[1;32m   1545\u001b[0m   \u001b[39m# We run the loss without autocasting, as regularizers are often\u001b[39;00m\n\u001b[1;32m   1546\u001b[0m   \u001b[39m# numerically unstable in float16.\u001b[39;00m\n\u001b[1;32m   1547\u001b[0m   \u001b[39mwith\u001b[39;00m autocast_variable\u001b[39m.\u001b[39menable_auto_cast_variables(\u001b[39mNone\u001b[39;00m):\n\u001b[0;32m-> 1548\u001b[0m     loss \u001b[39m=\u001b[39m loss()\n\u001b[1;32m   1549\u001b[0m \u001b[39mif\u001b[39;00m loss \u001b[39mis\u001b[39;00m \u001b[39mNone\u001b[39;00m:\n\u001b[1;32m   1550\u001b[0m   \u001b[39mreturn\u001b[39;00m \u001b[39mNone\u001b[39;00m  \u001b[39m# Will be filtered out when computing the .losses property\u001b[39;00m\n",
            "\u001b[1;32m/home/nimahsn/Documents/Western/pde/pinns/burgers_pinn.ipynb Cell 7\u001b[0m in \u001b[0;36mBurgersPinn.call.<locals>.<lambda>\u001b[0;34m()\u001b[0m\n\u001b[1;32m     <a href='vscode-notebook-cell:/home/nimahsn/Documents/Western/pde/pinns/burgers_pinn.ipynb#W5sZmlsZQ%3D%3D?line=49'>50</a>\u001b[0m   u_ib \u001b[39m=\u001b[39m \u001b[39mself\u001b[39m\u001b[39m.\u001b[39mnetwork(tf\u001b[39m.\u001b[39mconcat([tx_init, tx_bound], axis \u001b[39m=\u001b[39m \u001b[39m0\u001b[39m))\n\u001b[1;32m     <a href='vscode-notebook-cell:/home/nimahsn/Documents/Western/pde/pinns/burgers_pinn.ipynb#W5sZmlsZQ%3D%3D?line=51'>52</a>\u001b[0m   \u001b[39mself\u001b[39m\u001b[39m.\u001b[39madd_loss(\u001b[39mlambda\u001b[39;00m: tf\u001b[39m.\u001b[39mreduce_mean(tf\u001b[39m.\u001b[39msquare(u_ib[:n_i] \u001b[39m-\u001b[39m tf\u001b[39m.\u001b[39msin(np\u001b[39m.\u001b[39mpi\u001b[39m*\u001b[39mtx_init[\u001b[39m.\u001b[39m\u001b[39m.\u001b[39m\u001b[39m.\u001b[39m, \u001b[39m1\u001b[39m]))))\n\u001b[0;32m---> <a href='vscode-notebook-cell:/home/nimahsn/Documents/Western/pde/pinns/burgers_pinn.ipynb#W5sZmlsZQ%3D%3D?line=52'>53</a>\u001b[0m   \u001b[39mself\u001b[39m\u001b[39m.\u001b[39madd_loss(\u001b[39mlambda\u001b[39;00m: tf\u001b[39m.\u001b[39;49mreduce_mean(tf\u001b[39m.\u001b[39;49msquare(u_ib[n_i:])))\n\u001b[1;32m     <a href='vscode-notebook-cell:/home/nimahsn/Documents/Western/pde/pinns/burgers_pinn.ipynb#W5sZmlsZQ%3D%3D?line=54'>55</a>\u001b[0m   \u001b[39mreturn\u001b[39;00m burgers_eq\n\u001b[1;32m     <a href='vscode-notebook-cell:/home/nimahsn/Documents/Western/pde/pinns/burgers_pinn.ipynb#W5sZmlsZQ%3D%3D?line=56'>57</a>\u001b[0m \u001b[39mreturn\u001b[39;00m burgers_eq\n",
            "File \u001b[0;32m~/anaconda3/envs/tf2/lib/python3.10/site-packages/tensorflow/python/util/traceback_utils.py:150\u001b[0m, in \u001b[0;36mfilter_traceback.<locals>.error_handler\u001b[0;34m(*args, **kwargs)\u001b[0m\n\u001b[1;32m    148\u001b[0m filtered_tb \u001b[39m=\u001b[39m \u001b[39mNone\u001b[39;00m\n\u001b[1;32m    149\u001b[0m \u001b[39mtry\u001b[39;00m:\n\u001b[0;32m--> 150\u001b[0m   \u001b[39mreturn\u001b[39;00m fn(\u001b[39m*\u001b[39;49margs, \u001b[39m*\u001b[39;49m\u001b[39m*\u001b[39;49mkwargs)\n\u001b[1;32m    151\u001b[0m \u001b[39mexcept\u001b[39;00m \u001b[39mException\u001b[39;00m \u001b[39mas\u001b[39;00m e:\n\u001b[1;32m    152\u001b[0m   filtered_tb \u001b[39m=\u001b[39m _process_traceback_frames(e\u001b[39m.\u001b[39m__traceback__)\n",
            "File \u001b[0;32m~/anaconda3/envs/tf2/lib/python3.10/site-packages/tensorflow/python/util/dispatch.py:1082\u001b[0m, in \u001b[0;36madd_dispatch_support.<locals>.decorator.<locals>.op_dispatch_handler\u001b[0;34m(*args, **kwargs)\u001b[0m\n\u001b[1;32m   1080\u001b[0m \u001b[39m# Fallback dispatch system (dispatch v1):\u001b[39;00m\n\u001b[1;32m   1081\u001b[0m \u001b[39mtry\u001b[39;00m:\n\u001b[0;32m-> 1082\u001b[0m   \u001b[39mreturn\u001b[39;00m dispatch_target(\u001b[39m*\u001b[39;49margs, \u001b[39m*\u001b[39;49m\u001b[39m*\u001b[39;49mkwargs)\n\u001b[1;32m   1083\u001b[0m \u001b[39mexcept\u001b[39;00m (\u001b[39mTypeError\u001b[39;00m, \u001b[39mValueError\u001b[39;00m):\n\u001b[1;32m   1084\u001b[0m   \u001b[39m# Note: convert_to_eager_tensor currently raises a ValueError, not a\u001b[39;00m\n\u001b[1;32m   1085\u001b[0m   \u001b[39m# TypeError, when given unexpected types.  So we need to catch both.\u001b[39;00m\n\u001b[1;32m   1086\u001b[0m   result \u001b[39m=\u001b[39m dispatch(op_dispatch_handler, args, kwargs)\n",
            "File \u001b[0;32m~/anaconda3/envs/tf2/lib/python3.10/site-packages/tensorflow/python/ops/math_ops.py:2640\u001b[0m, in \u001b[0;36mreduce_mean\u001b[0;34m(input_tensor, axis, keepdims, name)\u001b[0m\n\u001b[1;32m   2587\u001b[0m \u001b[39m\"\"\"Computes the mean of elements across dimensions of a tensor.\u001b[39;00m\n\u001b[1;32m   2588\u001b[0m \n\u001b[1;32m   2589\u001b[0m \u001b[39mReduces `input_tensor` along the dimensions given in `axis` by computing the\u001b[39;00m\n\u001b[0;32m   (...)\u001b[0m\n\u001b[1;32m   2634\u001b[0m \u001b[39m@end_compatibility\u001b[39;00m\n\u001b[1;32m   2635\u001b[0m \u001b[39m\"\"\"\u001b[39;00m\n\u001b[1;32m   2636\u001b[0m keepdims \u001b[39m=\u001b[39m \u001b[39mFalse\u001b[39;00m \u001b[39mif\u001b[39;00m keepdims \u001b[39mis\u001b[39;00m \u001b[39mNone\u001b[39;00m \u001b[39melse\u001b[39;00m \u001b[39mbool\u001b[39m(keepdims)\n\u001b[1;32m   2637\u001b[0m \u001b[39mreturn\u001b[39;00m _may_reduce_to_scalar(\n\u001b[1;32m   2638\u001b[0m     keepdims, axis,\n\u001b[1;32m   2639\u001b[0m     gen_math_ops\u001b[39m.\u001b[39mmean(\n\u001b[0;32m-> 2640\u001b[0m         input_tensor, _ReductionDims(input_tensor, axis), keepdims,\n\u001b[1;32m   2641\u001b[0m         name\u001b[39m=\u001b[39mname))\n",
            "File \u001b[0;32m~/anaconda3/envs/tf2/lib/python3.10/site-packages/tensorflow/python/ops/math_ops.py:2149\u001b[0m, in \u001b[0;36m_ReductionDims\u001b[0;34m(x, axis)\u001b[0m\n\u001b[1;32m   2147\u001b[0m \u001b[39m# Fast path: avoid creating Rank and Range ops if ndims is known.\u001b[39;00m\n\u001b[1;32m   2148\u001b[0m \u001b[39mif\u001b[39;00m x_rank:\n\u001b[0;32m-> 2149\u001b[0m   \u001b[39mreturn\u001b[39;00m constant_op\u001b[39m.\u001b[39mconstant(np\u001b[39m.\u001b[39;49marange(x_rank, dtype\u001b[39m=\u001b[39;49mnp\u001b[39m.\u001b[39;49mint32))\n\u001b[1;32m   2150\u001b[0m \u001b[39melse\u001b[39;00m:\n\u001b[1;32m   2151\u001b[0m   \u001b[39m# Otherwise, we rely on Range and Rank to do the right thing at run-time.\u001b[39;00m\n\u001b[1;32m   2152\u001b[0m   \u001b[39mreturn\u001b[39;00m \u001b[39mrange\u001b[39m(\u001b[39m0\u001b[39m, array_ops\u001b[39m.\u001b[39mrank(x))\n",
            "\u001b[0;31mKeyboardInterrupt\u001b[0m: "
          ]
        }
      ],
      "source": [
        "pinn_model.fit(tf.stack([tx_samples, tx_init, tx_boundary], axis=0), epochs=5000, progress_interval=100)"
      ]
    },
    {
      "cell_type": "code",
      "execution_count": 9,
      "metadata": {
        "id": "t6N3iwR_vDX9"
      },
      "outputs": [
        {
          "data": {
            "image/png": "[encoded data removed]",
            "text/plain": [
              "<Figure size 504x288 with 7 Axes>"
            ]
          },
          "metadata": {
            "needs_background": "light"
          },
          "output_type": "display_data"
        }
      ],
      "source": [
        "num_test_samples = 1000\n",
        "t_flat = np.linspace(0, 1, num_test_samples)\n",
        "x_flat = np.linspace(-1, 1, num_test_samples)\n",
        "t, x = np.meshgrid(t_flat, x_flat)\n",
        "tx = np.stack([t.flatten(), x.flatten()], axis=-1)\n",
        "u = pinn_model.network.predict(tx, batch_size=num_test_samples)\n",
        "u = u.reshape(t.shape)\n",
        "\n",
        "# plot u(t,x) distribution as a color-map\n",
        "fig = plt.figure(figsize=(7,4))\n",
        "gs = GridSpec(2, 5)\n",
        "plt.subplot(gs[0, :])\n",
        "plt.pcolormesh(t, x, u)\n",
        "plt.xlabel('t')\n",
        "plt.ylabel('x')\n",
        "cbar = plt.colorbar(pad=0.05, aspect=10)\n",
        "cbar.set_label('u(t,x)')\n",
        "cbar.mappable.set_clim(-1, 1)\n",
        "# plot u(t=const, x) cross-sections\n",
        "t_cross_sections = [0,0.25, 0.5,0.75,1]\n",
        "for i, t_cs in enumerate(t_cross_sections):\n",
        "  plt.subplot(gs[1, i])\n",
        "  tx = np.stack([np.full(t_flat.shape, t_cs), x_flat], axis=-1)\n",
        "  u = pinn_model.network.predict(tx, batch_size=num_test_samples)\n",
        "  plt.plot(x_flat, u)\n",
        "  plt.title('t={}'.format(t_cs))\n",
        "  plt.xlabel('x')\n",
        "  plt.ylabel('u(t,x)')\n",
        "plt.tight_layout()\n",
        "plt.show()"
      ]
    },
    {
      "cell_type": "code",
      "execution_count": null,
      "metadata": {},
      "outputs": [],
      "source": []
    }
  ],
  "metadata": {
    "colab": {
      "provenance": []
    },
    "kernelspec": {
      "display_name": "Python 3.10.5 ('tf2')",
      "language": "python",
      "name": "python3"
    },
    "language_info": {
      "codemirror_mode": {
        "name": "ipython",
        "version": 3
      },
      "file_extension": ".py",
      "mimetype": "text/x-python",
      "name": "python",
      "nbconvert_exporter": "python",
      "pygments_lexer": "ipython3",
      "version": "3.10.5"
    },
    "vscode": {
      "interpreter": {
        "hash": "95b399d55d7ba88e1a788c9d84fe7761de08157d41dd32f183df354a9771fcfe"
      }
    }
  },
  "nbformat": 4,
  "nbformat_minor": 0
}
